{
 "cells": [
  {
   "cell_type": "code",
   "execution_count": 2,
   "metadata": {},
   "outputs": [],
   "source": [
    "import pandas as pd\n",
    "import numpy as np"
   ]
  },
  {
   "cell_type": "code",
   "execution_count": 92,
   "metadata": {},
   "outputs": [],
   "source": [
    "import warnings\n",
    "warnings.filterwarnings(\"ignore\")"
   ]
  },
  {
   "cell_type": "code",
   "execution_count": 67,
   "metadata": {},
   "outputs": [],
   "source": [
    "file1 = pd.read_excel(\"Data/Federal_Manual_Classifications_2005_2010.xlsx\",sheetname=0,encoding='cp1252')"
   ]
  },
  {
   "cell_type": "code",
   "execution_count": 68,
   "metadata": {},
   "outputs": [],
   "source": [
    "file2 = pd.read_excel(\"Data/Federal_Manual_Classifications_2005_2010.xlsx\",sheetname=1,encoding='cp1252')"
   ]
  },
  {
   "cell_type": "code",
   "execution_count": 69,
   "metadata": {},
   "outputs": [
    {
     "data": {
      "text/html": [
       "<div>\n",
       "<style scoped>\n",
       "    .dataframe tbody tr th:only-of-type {\n",
       "        vertical-align: middle;\n",
       "    }\n",
       "\n",
       "    .dataframe tbody tr th {\n",
       "        vertical-align: top;\n",
       "    }\n",
       "\n",
       "    .dataframe thead th {\n",
       "        text-align: right;\n",
       "    }\n",
       "</style>\n",
       "<table border=\"1\" class=\"dataframe\">\n",
       "  <thead>\n",
       "    <tr style=\"text-align: right;\">\n",
       "      <th></th>\n",
       "      <th>Serial No.</th>\n",
       "      <th>Year</th>\n",
       "      <th>Case</th>\n",
       "      <th>Case No.</th>\n",
       "      <th>Docket No.</th>\n",
       "      <th>Non-compete</th>\n",
       "      <th>Comment</th>\n",
       "      <th>Court</th>\n",
       "      <th>Date of the current decision</th>\n",
       "      <th>If not non-compete, why was it flagged?</th>\n",
       "    </tr>\n",
       "  </thead>\n",
       "  <tbody>\n",
       "    <tr>\n",
       "      <th>0</th>\n",
       "      <td>1</td>\n",
       "      <td>2005</td>\n",
       "      <td>Daniel v. American Bd. of Emergency Medicine</td>\n",
       "      <td>428 F.3d 408</td>\n",
       "      <td>03–6153(L), 03–6163(XAP), 03–6165(XAP), 03–615...</td>\n",
       "      <td>No</td>\n",
       "      <td>Case addresses violation of the Sherman and Cl...</td>\n",
       "      <td>NaN</td>\n",
       "      <td>NaN</td>\n",
       "      <td>Case cites a diff. case which talks about NC</td>\n",
       "    </tr>\n",
       "    <tr>\n",
       "      <th>1</th>\n",
       "      <td>2</td>\n",
       "      <td>2005</td>\n",
       "      <td>Banjo Buddies, Inc. v. Renosky</td>\n",
       "      <td>399 F.3d 168</td>\n",
       "      <td>03–2038, 03–2107</td>\n",
       "      <td>Yes</td>\n",
       "      <td>Court favors Banjo Buddies by affirming court'...</td>\n",
       "      <td>United States Court of Appeals, Third Circuit</td>\n",
       "      <td>2005-02-22 00:00:00</td>\n",
       "      <td>NaN</td>\n",
       "    </tr>\n",
       "    <tr>\n",
       "      <th>2</th>\n",
       "      <td>3</td>\n",
       "      <td>2005</td>\n",
       "      <td>Milner Voice and Data, Inc. v. Tassy</td>\n",
       "      <td>377 F.Supp.2d 1209</td>\n",
       "      <td>04–61248–CIV–MOORE</td>\n",
       "      <td>Yes</td>\n",
       "      <td>Court grants preliminary injunction against de...</td>\n",
       "      <td>United States District Court, S.D. Florida</td>\n",
       "      <td>2005-06-21 00:00:00</td>\n",
       "      <td>NaN</td>\n",
       "    </tr>\n",
       "    <tr>\n",
       "      <th>3</th>\n",
       "      <td>4</td>\n",
       "      <td>2005</td>\n",
       "      <td>Century 21 Real Estate Corp. v. Lendingtree, Inc.</td>\n",
       "      <td>425 F.3d 211</td>\n",
       "      <td>03–4700</td>\n",
       "      <td>No</td>\n",
       "      <td>Case addresses trademark infringement action</td>\n",
       "      <td>NaN</td>\n",
       "      <td>NaN</td>\n",
       "      <td>Case mentions \"non-competitive\"- no actual NC ...</td>\n",
       "    </tr>\n",
       "    <tr>\n",
       "      <th>4</th>\n",
       "      <td>5</td>\n",
       "      <td>2005</td>\n",
       "      <td>Hollinger Intern. Inc. v. Hollinger Inc.</td>\n",
       "      <td>\\n230 F.R.D. 508</td>\n",
       "      <td>04 C 698</td>\n",
       "      <td>No</td>\n",
       "      <td>Case addresses sham noncompete payments (but n...</td>\n",
       "      <td>NaN</td>\n",
       "      <td>NaN</td>\n",
       "      <td>Case addresses NC payments</td>\n",
       "    </tr>\n",
       "  </tbody>\n",
       "</table>\n",
       "</div>"
      ],
      "text/plain": [
       "   Serial No.  Year                                               Case  \\\n",
       "0           1  2005       Daniel v. American Bd. of Emergency Medicine   \n",
       "1           2  2005                     Banjo Buddies, Inc. v. Renosky   \n",
       "2           3  2005               Milner Voice and Data, Inc. v. Tassy   \n",
       "3           4  2005  Century 21 Real Estate Corp. v. Lendingtree, Inc.   \n",
       "4           5  2005           Hollinger Intern. Inc. v. Hollinger Inc.   \n",
       "\n",
       "             Case No.                                        Docket No.   \\\n",
       "0        428 F.3d 408  03–6153(L), 03–6163(XAP), 03–6165(XAP), 03–615...   \n",
       "1        399 F.3d 168                                   03–2038, 03–2107   \n",
       "2  377 F.Supp.2d 1209                                 04–61248–CIV–MOORE   \n",
       "3        425 F.3d 211                                            03–4700   \n",
       "4    \\n230 F.R.D. 508                                           04 C 698   \n",
       "\n",
       "  Non-compete                                            Comment  \\\n",
       "0          No  Case addresses violation of the Sherman and Cl...   \n",
       "1         Yes  Court favors Banjo Buddies by affirming court'...   \n",
       "2         Yes  Court grants preliminary injunction against de...   \n",
       "3          No      Case addresses trademark infringement action    \n",
       "4          No  Case addresses sham noncompete payments (but n...   \n",
       "\n",
       "                                           Court Date of the current decision  \\\n",
       "0                                            NaN                          NaN   \n",
       "1  United States Court of Appeals, Third Circuit          2005-02-22 00:00:00   \n",
       "2     United States District Court, S.D. Florida          2005-06-21 00:00:00   \n",
       "3                                            NaN                          NaN   \n",
       "4                                            NaN                          NaN   \n",
       "\n",
       "             If not non-compete, why was it flagged?  \n",
       "0       Case cites a diff. case which talks about NC  \n",
       "1                                                NaN  \n",
       "2                                                NaN  \n",
       "3  Case mentions \"non-competitive\"- no actual NC ...  \n",
       "4                         Case addresses NC payments  "
      ]
     },
     "execution_count": 69,
     "metadata": {},
     "output_type": "execute_result"
    }
   ],
   "source": [
    "file1.head()"
   ]
  },
  {
   "cell_type": "code",
   "execution_count": 70,
   "metadata": {},
   "outputs": [
    {
     "data": {
      "text/html": [
       "<div>\n",
       "<style scoped>\n",
       "    .dataframe tbody tr th:only-of-type {\n",
       "        vertical-align: middle;\n",
       "    }\n",
       "\n",
       "    .dataframe tbody tr th {\n",
       "        vertical-align: top;\n",
       "    }\n",
       "\n",
       "    .dataframe thead th {\n",
       "        text-align: right;\n",
       "    }\n",
       "</style>\n",
       "<table border=\"1\" class=\"dataframe\">\n",
       "  <thead>\n",
       "    <tr style=\"text-align: right;\">\n",
       "      <th></th>\n",
       "      <th>serialno</th>\n",
       "      <th>year</th>\n",
       "      <th>case</th>\n",
       "      <th>title</th>\n",
       "      <th>documenturl</th>\n",
       "      <th>courtline</th>\n",
       "      <th>fileddate</th>\n",
       "      <th>citation</th>\n",
       "      <th>parallelcite</th>\n",
       "      <th>docketnum</th>\n",
       "      <th>summary</th>\n",
       "      <th>searchsnippet1</th>\n",
       "      <th>searchsnippet2</th>\n",
       "      <th>searchsnippet3</th>\n",
       "      <th>searchsnippet4</th>\n",
       "    </tr>\n",
       "  </thead>\n",
       "  <tbody>\n",
       "    <tr>\n",
       "      <th>0</th>\n",
       "      <td>1</td>\n",
       "      <td>2005</td>\n",
       "      <td>Daniel v. American Bd. of Emergency Medicine</td>\n",
       "      <td>Daniel v. American Bd. of Emergency Medicine</td>\n",
       "      <td>https://www.westlaw.com/Document/I6a50ca66374d...</td>\n",
       "      <td>United States Court of Appeals, Second Circuit.</td>\n",
       "      <td>2005-10-07</td>\n",
       "      <td>428 F.3d 408</td>\n",
       "      <td>2005 WL 2470530</td>\n",
       "      <td>03-6153(L), 03-6157(XAP), 03-6167(XAP), 03-616...</td>\n",
       "      <td>ANTITRUST - Venue. Clayton Act's worldwide ser...</td>\n",
       "      <td>...state when events giving rise to claim for ...</td>\n",
       "      <td>NaN</td>\n",
       "      <td>NaN</td>\n",
       "      <td>NaN</td>\n",
       "    </tr>\n",
       "    <tr>\n",
       "      <th>1</th>\n",
       "      <td>2</td>\n",
       "      <td>2005</td>\n",
       "      <td>Banjo Buddies, Inc. v. Renosky</td>\n",
       "      <td>Banjo Buddies, Inc. v. Renosky</td>\n",
       "      <td>https://www.westlaw.com/Document/Iae88ca908828...</td>\n",
       "      <td>United States Court of Appeals, Third Circuit.</td>\n",
       "      <td>2005-02-22</td>\n",
       "      <td>399 F.3d 168</td>\n",
       "      <td>2005 WL 406242</td>\n",
       "      <td>03-2038, 03-2107</td>\n",
       "      <td>TRADEMARKS - Damages. Wilfulness was not prere...</td>\n",
       "      <td>...Minnow kits at a fair price.  Renosky also ...</td>\n",
       "      <td>...Buddies product.  BBI also alleged that Ren...</td>\n",
       "      <td>NaN</td>\n",
       "      <td>NaN</td>\n",
       "    </tr>\n",
       "    <tr>\n",
       "      <th>2</th>\n",
       "      <td>3</td>\n",
       "      <td>2005</td>\n",
       "      <td>Milner Voice and Data, Inc. v. Tassy</td>\n",
       "      <td>Milner Voice and Data, Inc. v. Tassy</td>\n",
       "      <td>https://www.westlaw.com/Document/I5656367efa18...</td>\n",
       "      <td>United States District Court, S.D. Florida.</td>\n",
       "      <td>2005-06-21</td>\n",
       "      <td>377 F.Supp.2d 1209</td>\n",
       "      <td>2005 WL 1692553</td>\n",
       "      <td>04-61248-CIV-MOORE</td>\n",
       "      <td>LABOR AND EMPLOYMENT - Contracts. Former emplo...</td>\n",
       "      <td>...District Court K. Michael Moore , J., held ...</td>\n",
       "      <td>...adequately pleaded and proved existence of ...</td>\n",
       "      <td>NaN</td>\n",
       "      <td>NaN</td>\n",
       "    </tr>\n",
       "    <tr>\n",
       "      <th>3</th>\n",
       "      <td>4</td>\n",
       "      <td>2005</td>\n",
       "      <td>Century 21 Real Estate Corp. v. Lendingtree, Inc.</td>\n",
       "      <td>Century 21 Real Estate Corp. v. Lendingtree, Inc.</td>\n",
       "      <td>https://www.westlaw.com/Document/I1ca1b3303a43...</td>\n",
       "      <td>United States Court of Appeals, Third Circuit.</td>\n",
       "      <td>2005-10-11</td>\n",
       "      <td>425 F.3d 211</td>\n",
       "      <td>2005 WL 2495718</td>\n",
       "      <td>03-4700</td>\n",
       "      <td>TRADEMARKS - Fair Use. Plaintiff had burden of...</td>\n",
       "      <td>...updated formulation post-dates Lapp and add...</td>\n",
       "      <td>NaN</td>\n",
       "      <td>NaN</td>\n",
       "      <td>NaN</td>\n",
       "    </tr>\n",
       "    <tr>\n",
       "      <th>4</th>\n",
       "      <td>5</td>\n",
       "      <td>2005</td>\n",
       "      <td>Hollinger Intern. Inc. v. Hollinger Inc.</td>\n",
       "      <td>Hollinger Intern. Inc. v. Hollinger Inc.</td>\n",
       "      <td>https://www.westlaw.com/Document/If3dcc18f2a42...</td>\n",
       "      <td>United States District Court, N.D. Illinois, E...</td>\n",
       "      <td>2005-05-16</td>\n",
       "      <td>230 F.R.D. 508</td>\n",
       "      <td>2005 WL 2290338</td>\n",
       "      <td>04 C 698</td>\n",
       "      <td>TORTS - Discovery. Company's release to SEC of...</td>\n",
       "      <td>...conspiracy, alleging systematic looting of ...</td>\n",
       "      <td>...action respecting the payments made to the ...</td>\n",
       "      <td>NaN</td>\n",
       "      <td>NaN</td>\n",
       "    </tr>\n",
       "  </tbody>\n",
       "</table>\n",
       "</div>"
      ],
      "text/plain": [
       "   serialno  year                                               case  \\\n",
       "0         1  2005       Daniel v. American Bd. of Emergency Medicine   \n",
       "1         2  2005                     Banjo Buddies, Inc. v. Renosky   \n",
       "2         3  2005               Milner Voice and Data, Inc. v. Tassy   \n",
       "3         4  2005  Century 21 Real Estate Corp. v. Lendingtree, Inc.   \n",
       "4         5  2005           Hollinger Intern. Inc. v. Hollinger Inc.   \n",
       "\n",
       "                                               title  \\\n",
       "0       Daniel v. American Bd. of Emergency Medicine   \n",
       "1                     Banjo Buddies, Inc. v. Renosky   \n",
       "2               Milner Voice and Data, Inc. v. Tassy   \n",
       "3  Century 21 Real Estate Corp. v. Lendingtree, Inc.   \n",
       "4           Hollinger Intern. Inc. v. Hollinger Inc.   \n",
       "\n",
       "                                         documenturl  \\\n",
       "0  https://www.westlaw.com/Document/I6a50ca66374d...   \n",
       "1  https://www.westlaw.com/Document/Iae88ca908828...   \n",
       "2  https://www.westlaw.com/Document/I5656367efa18...   \n",
       "3  https://www.westlaw.com/Document/I1ca1b3303a43...   \n",
       "4  https://www.westlaw.com/Document/If3dcc18f2a42...   \n",
       "\n",
       "                                           courtline  fileddate  \\\n",
       "0    United States Court of Appeals, Second Circuit. 2005-10-07   \n",
       "1     United States Court of Appeals, Third Circuit. 2005-02-22   \n",
       "2        United States District Court, S.D. Florida. 2005-06-21   \n",
       "3     United States Court of Appeals, Third Circuit. 2005-10-11   \n",
       "4  United States District Court, N.D. Illinois, E... 2005-05-16   \n",
       "\n",
       "             citation     parallelcite  \\\n",
       "0        428 F.3d 408  2005 WL 2470530   \n",
       "1        399 F.3d 168   2005 WL 406242   \n",
       "2  377 F.Supp.2d 1209  2005 WL 1692553   \n",
       "3        425 F.3d 211  2005 WL 2495718   \n",
       "4      230 F.R.D. 508  2005 WL 2290338   \n",
       "\n",
       "                                           docketnum  \\\n",
       "0  03-6153(L), 03-6157(XAP), 03-6167(XAP), 03-616...   \n",
       "1                                   03-2038, 03-2107   \n",
       "2                                 04-61248-CIV-MOORE   \n",
       "3                                            03-4700   \n",
       "4                                           04 C 698   \n",
       "\n",
       "                                             summary  \\\n",
       "0  ANTITRUST - Venue. Clayton Act's worldwide ser...   \n",
       "1  TRADEMARKS - Damages. Wilfulness was not prere...   \n",
       "2  LABOR AND EMPLOYMENT - Contracts. Former emplo...   \n",
       "3  TRADEMARKS - Fair Use. Plaintiff had burden of...   \n",
       "4  TORTS - Discovery. Company's release to SEC of...   \n",
       "\n",
       "                                      searchsnippet1  \\\n",
       "0  ...state when events giving rise to claim for ...   \n",
       "1  ...Minnow kits at a fair price.  Renosky also ...   \n",
       "2  ...District Court K. Michael Moore , J., held ...   \n",
       "3  ...updated formulation post-dates Lapp and add...   \n",
       "4  ...conspiracy, alleging systematic looting of ...   \n",
       "\n",
       "                                      searchsnippet2 searchsnippet3  \\\n",
       "0                                                NaN            NaN   \n",
       "1  ...Buddies product.  BBI also alleged that Ren...            NaN   \n",
       "2  ...adequately pleaded and proved existence of ...            NaN   \n",
       "3                                                NaN            NaN   \n",
       "4  ...action respecting the payments made to the ...            NaN   \n",
       "\n",
       "  searchsnippet4  \n",
       "0            NaN  \n",
       "1            NaN  \n",
       "2            NaN  \n",
       "3            NaN  \n",
       "4            NaN  "
      ]
     },
     "execution_count": 70,
     "metadata": {},
     "output_type": "execute_result"
    }
   ],
   "source": [
    "file2.head()"
   ]
  },
  {
   "cell_type": "code",
   "execution_count": 71,
   "metadata": {},
   "outputs": [
    {
     "data": {
      "text/plain": [
       "((120, 10), (120, 15))"
      ]
     },
     "execution_count": 71,
     "metadata": {},
     "output_type": "execute_result"
    }
   ],
   "source": [
    "file1.shape, file2.shape"
   ]
  },
  {
   "cell_type": "code",
   "execution_count": 74,
   "metadata": {},
   "outputs": [
    {
     "data": {
      "text/html": [
       "<div>\n",
       "<style scoped>\n",
       "    .dataframe tbody tr th:only-of-type {\n",
       "        vertical-align: middle;\n",
       "    }\n",
       "\n",
       "    .dataframe tbody tr th {\n",
       "        vertical-align: top;\n",
       "    }\n",
       "\n",
       "    .dataframe thead th {\n",
       "        text-align: right;\n",
       "    }\n",
       "</style>\n",
       "<table border=\"1\" class=\"dataframe\">\n",
       "  <thead>\n",
       "    <tr style=\"text-align: right;\">\n",
       "      <th></th>\n",
       "      <th>Serial No.</th>\n",
       "      <th>Year</th>\n",
       "      <th>Case</th>\n",
       "      <th>Case No.</th>\n",
       "      <th>Docket No.</th>\n",
       "      <th>Non-compete</th>\n",
       "      <th>Comment</th>\n",
       "      <th>Court</th>\n",
       "      <th>Date of the current decision</th>\n",
       "      <th>If not non-compete, why was it flagged?</th>\n",
       "    </tr>\n",
       "  </thead>\n",
       "  <tbody>\n",
       "    <tr>\n",
       "      <th>75</th>\n",
       "      <td>19</td>\n",
       "      <td>2009</td>\n",
       "      <td>Timberline Drilling, Inc. v. American Drilling...</td>\n",
       "      <td>2009 WL 529627</td>\n",
       "      <td>CV–09–18–N–EJL</td>\n",
       "      <td>Yes</td>\n",
       "      <td>Court finds probably success on merits of brea...</td>\n",
       "      <td>United States District Court, D. Idaho</td>\n",
       "      <td>2009-03-02 00:00:00</td>\n",
       "      <td>NaN</td>\n",
       "    </tr>\n",
       "    <tr>\n",
       "      <th>108</th>\n",
       "      <td>37</td>\n",
       "      <td>2010</td>\n",
       "      <td>Timberline Drilling, Inc. v. American Drilling...</td>\n",
       "      <td>2010 WL 11531293</td>\n",
       "      <td>CV 09–18–N–EJL–MHW</td>\n",
       "      <td>Yes</td>\n",
       "      <td>Defendents seek summary judgement on all alleg...</td>\n",
       "      <td>United States District Court, D. Idaho</td>\n",
       "      <td>2010-03-17 00:00:00</td>\n",
       "      <td>NaN</td>\n",
       "    </tr>\n",
       "  </tbody>\n",
       "</table>\n",
       "</div>"
      ],
      "text/plain": [
       "     Serial No.  Year                                               Case  \\\n",
       "75           19  2009  Timberline Drilling, Inc. v. American Drilling...   \n",
       "108          37  2010  Timberline Drilling, Inc. v. American Drilling...   \n",
       "\n",
       "             Case No.         Docket No.  Non-compete  \\\n",
       "75     2009 WL 529627      CV–09–18–N–EJL         Yes   \n",
       "108  2010 WL 11531293  CV 09–18–N–EJL–MHW         Yes   \n",
       "\n",
       "                                               Comment  \\\n",
       "75   Court finds probably success on merits of brea...   \n",
       "108  Defendents seek summary judgement on all alleg...   \n",
       "\n",
       "                                      Court Date of the current decision  \\\n",
       "75   United States District Court, D. Idaho          2009-03-02 00:00:00   \n",
       "108  United States District Court, D. Idaho          2010-03-17 00:00:00   \n",
       "\n",
       "    If not non-compete, why was it flagged?  \n",
       "75                                      NaN  \n",
       "108                                     NaN  "
      ]
     },
     "execution_count": 74,
     "metadata": {},
     "output_type": "execute_result"
    }
   ],
   "source": [
    "file1[file1['Case']=='Timberline Drilling, Inc. v. American Drilling Corp.']"
   ]
  },
  {
   "cell_type": "markdown",
   "metadata": {},
   "source": [
    "Matching has to be done row by row so concating two dataframes over rows"
   ]
  },
  {
   "cell_type": "code",
   "execution_count": 75,
   "metadata": {},
   "outputs": [],
   "source": [
    "concated = pd.concat([file1,file2], axis=1)"
   ]
  },
  {
   "cell_type": "code",
   "execution_count": 76,
   "metadata": {},
   "outputs": [
    {
     "data": {
      "text/plain": [
       "Index(['Serial No.', 'Year', 'Case', 'Case No.', 'Docket No. ', 'Non-compete',\n",
       "       'Comment', 'Court', 'Date of the current decision',\n",
       "       'If not non-compete, why was it flagged?', 'serialno', 'year', 'case',\n",
       "       'title', 'documenturl', 'courtline', 'fileddate', 'citation',\n",
       "       'parallelcite', 'docketnum', 'summary', 'searchsnippet1',\n",
       "       'searchsnippet2', 'searchsnippet3', 'searchsnippet4'],\n",
       "      dtype='object')"
      ]
     },
     "execution_count": 76,
     "metadata": {},
     "output_type": "execute_result"
    }
   ],
   "source": [
    "concated.columns"
   ]
  },
  {
   "cell_type": "code",
   "execution_count": 77,
   "metadata": {},
   "outputs": [
    {
     "data": {
      "text/html": [
       "<div>\n",
       "<style scoped>\n",
       "    .dataframe tbody tr th:only-of-type {\n",
       "        vertical-align: middle;\n",
       "    }\n",
       "\n",
       "    .dataframe tbody tr th {\n",
       "        vertical-align: top;\n",
       "    }\n",
       "\n",
       "    .dataframe thead th {\n",
       "        text-align: right;\n",
       "    }\n",
       "</style>\n",
       "<table border=\"1\" class=\"dataframe\">\n",
       "  <thead>\n",
       "    <tr style=\"text-align: right;\">\n",
       "      <th></th>\n",
       "      <th>Case</th>\n",
       "      <th>case</th>\n",
       "    </tr>\n",
       "  </thead>\n",
       "  <tbody>\n",
       "    <tr>\n",
       "      <th>19</th>\n",
       "      <td>Schultz v. Capital Intern.</td>\n",
       "      <td>Schultz v. Capital Intern.</td>\n",
       "    </tr>\n",
       "    <tr>\n",
       "      <th>59</th>\n",
       "      <td>Ray Mart Inc. v. Stock Bldg. Supply of Texas LP,</td>\n",
       "      <td>Ray Mart Inc. v. Stock Bldg. Supply of Texas LP,</td>\n",
       "    </tr>\n",
       "    <tr>\n",
       "      <th>97</th>\n",
       "      <td>Preston v. Marathon Oil Company,</td>\n",
       "      <td>Preston v. Marathon Oil Company,</td>\n",
       "    </tr>\n",
       "  </tbody>\n",
       "</table>\n",
       "</div>"
      ],
      "text/plain": [
       "                                                 Case  \\\n",
       "19                        Schultz v. Capital Intern.    \n",
       "59  Ray Mart Inc. v. Stock Bldg. Supply of Texas LP,    \n",
       "97                  Preston v. Marathon Oil Company,    \n",
       "\n",
       "                                                case  \n",
       "19                        Schultz v. Capital Intern.  \n",
       "59  Ray Mart Inc. v. Stock Bldg. Supply of Texas LP,  \n",
       "97                  Preston v. Marathon Oil Company,  "
      ]
     },
     "execution_count": 77,
     "metadata": {},
     "output_type": "execute_result"
    }
   ],
   "source": [
    "concated[concated['Case']!=concated['case']][['Case','case']]"
   ]
  },
  {
   "cell_type": "markdown",
   "metadata": {},
   "source": [
    "Cases are same, may be extra space"
   ]
  },
  {
   "cell_type": "code",
   "execution_count": 78,
   "metadata": {},
   "outputs": [],
   "source": [
    "Dataset = concated[['Non-compete','summary']]"
   ]
  },
  {
   "cell_type": "code",
   "execution_count": 79,
   "metadata": {},
   "outputs": [
    {
     "data": {
      "text/html": [
       "<div>\n",
       "<style scoped>\n",
       "    .dataframe tbody tr th:only-of-type {\n",
       "        vertical-align: middle;\n",
       "    }\n",
       "\n",
       "    .dataframe tbody tr th {\n",
       "        vertical-align: top;\n",
       "    }\n",
       "\n",
       "    .dataframe thead th {\n",
       "        text-align: right;\n",
       "    }\n",
       "</style>\n",
       "<table border=\"1\" class=\"dataframe\">\n",
       "  <thead>\n",
       "    <tr style=\"text-align: right;\">\n",
       "      <th></th>\n",
       "      <th>Non-compete</th>\n",
       "      <th>summary</th>\n",
       "    </tr>\n",
       "  </thead>\n",
       "  <tbody>\n",
       "    <tr>\n",
       "      <th>0</th>\n",
       "      <td>No</td>\n",
       "      <td>ANTITRUST - Venue. Clayton Act's worldwide ser...</td>\n",
       "    </tr>\n",
       "    <tr>\n",
       "      <th>1</th>\n",
       "      <td>Yes</td>\n",
       "      <td>TRADEMARKS - Damages. Wilfulness was not prere...</td>\n",
       "    </tr>\n",
       "    <tr>\n",
       "      <th>2</th>\n",
       "      <td>Yes</td>\n",
       "      <td>LABOR AND EMPLOYMENT - Contracts. Former emplo...</td>\n",
       "    </tr>\n",
       "    <tr>\n",
       "      <th>3</th>\n",
       "      <td>No</td>\n",
       "      <td>TRADEMARKS - Fair Use. Plaintiff had burden of...</td>\n",
       "    </tr>\n",
       "    <tr>\n",
       "      <th>4</th>\n",
       "      <td>No</td>\n",
       "      <td>TORTS - Discovery. Company's release to SEC of...</td>\n",
       "    </tr>\n",
       "  </tbody>\n",
       "</table>\n",
       "</div>"
      ],
      "text/plain": [
       "  Non-compete                                            summary\n",
       "0          No  ANTITRUST - Venue. Clayton Act's worldwide ser...\n",
       "1         Yes  TRADEMARKS - Damages. Wilfulness was not prere...\n",
       "2         Yes  LABOR AND EMPLOYMENT - Contracts. Former emplo...\n",
       "3          No  TRADEMARKS - Fair Use. Plaintiff had burden of...\n",
       "4          No  TORTS - Discovery. Company's release to SEC of..."
      ]
     },
     "execution_count": 79,
     "metadata": {},
     "output_type": "execute_result"
    }
   ],
   "source": [
    "Dataset.head()"
   ]
  },
  {
   "cell_type": "code",
   "execution_count": 80,
   "metadata": {},
   "outputs": [
    {
     "data": {
      "text/plain": [
       "(120, 2)"
      ]
     },
     "execution_count": 80,
     "metadata": {},
     "output_type": "execute_result"
    }
   ],
   "source": [
    "Dataset.shape"
   ]
  },
  {
   "cell_type": "code",
   "execution_count": 81,
   "metadata": {},
   "outputs": [],
   "source": [
    "from sklearn.model_selection import train_test_split"
   ]
  },
  {
   "cell_type": "code",
   "execution_count": 82,
   "metadata": {},
   "outputs": [],
   "source": [
    "X_train, X_test, Y_train, Y_test = train_test_split(Dataset['summary'], Dataset['Non-compete'], test_size=0.1)"
   ]
  },
  {
   "cell_type": "code",
   "execution_count": 83,
   "metadata": {},
   "outputs": [],
   "source": [
    "from sklearn.feature_extraction.text import CountVectorizer,TfidfVectorizer"
   ]
  },
  {
   "cell_type": "code",
   "execution_count": 84,
   "metadata": {},
   "outputs": [],
   "source": [
    "tfidfVectorizer = TfidfVectorizer(input=\"content\")\n",
    "countVectorizer=CountVectorizer(input='content')"
   ]
  },
  {
   "cell_type": "code",
   "execution_count": 85,
   "metadata": {},
   "outputs": [],
   "source": [
    "count_train = countVectorizer.fit_transform(Dataset['summary'])\n",
    "tfid_train = tfidfVectorizer.fit_transform(Dataset['summary'])"
   ]
  },
  {
   "cell_type": "code",
   "execution_count": 86,
   "metadata": {},
   "outputs": [],
   "source": [
    "from sklearn.linear_model import LogisticRegression"
   ]
  },
  {
   "cell_type": "code",
   "execution_count": 87,
   "metadata": {},
   "outputs": [],
   "source": [
    "from sklearn.model_selection import cross_val_score"
   ]
  },
  {
   "cell_type": "code",
   "execution_count": 88,
   "metadata": {},
   "outputs": [],
   "source": [
    "lgr = LogisticRegression()"
   ]
  },
  {
   "cell_type": "code",
   "execution_count": 93,
   "metadata": {},
   "outputs": [],
   "source": [
    "cv_results = cross_val_score(lgr, count_train, Dataset['Non-compete'], cv=3)"
   ]
  },
  {
   "cell_type": "code",
   "execution_count": 94,
   "metadata": {},
   "outputs": [
    {
     "data": {
      "text/plain": [
       "array([0.65853659, 0.625     , 0.64102564])"
      ]
     },
     "execution_count": 94,
     "metadata": {},
     "output_type": "execute_result"
    }
   ],
   "source": [
    "cv_results"
   ]
  },
  {
   "cell_type": "code",
   "execution_count": 95,
   "metadata": {},
   "outputs": [],
   "source": [
    "cv_results = cross_val_score(lgr, tfid_train, Dataset['Non-compete'], cv=3)"
   ]
  },
  {
   "cell_type": "code",
   "execution_count": 96,
   "metadata": {},
   "outputs": [
    {
     "data": {
      "text/plain": [
       "array([0.58536585, 0.575     , 0.61538462])"
      ]
     },
     "execution_count": 96,
     "metadata": {},
     "output_type": "execute_result"
    }
   ],
   "source": [
    "cv_results"
   ]
  },
  {
   "cell_type": "markdown",
   "metadata": {},
   "source": [
    "Count Vectorizer working better"
   ]
  },
  {
   "cell_type": "code",
   "execution_count": null,
   "metadata": {},
   "outputs": [],
   "source": []
  }
 ],
 "metadata": {
  "kernelspec": {
   "display_name": "Python 3",
   "language": "python",
   "name": "python3"
  },
  "language_info": {
   "codemirror_mode": {
    "name": "ipython",
    "version": 3
   },
   "file_extension": ".py",
   "mimetype": "text/x-python",
   "name": "python",
   "nbconvert_exporter": "python",
   "pygments_lexer": "ipython3",
   "version": "3.6.5"
  }
 },
 "nbformat": 4,
 "nbformat_minor": 2
}
